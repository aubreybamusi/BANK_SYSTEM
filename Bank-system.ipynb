{
 "cells": [
  {
   "cell_type": "code",
   "execution_count": 1,
   "id": "85f97865-4df3-45d2-9e47-9d70c9779748",
   "metadata": {},
   "outputs": [],
   "source": [
    "def creating_account():\n",
    "    name=input(\"enter your name\")\n",
    "    date_of_birth=input(\"enter date of birth(DD/MMM/YYY)\")\n",
    "    age=input(\"enter your age\")\n",
    "    national_ID_number=input(\"enter your ID number\")\n",
    "    password=input(\"enter your password\")\n",
    "    print(f\"your account has been auccessfully opened and your account number is 0098573553\")"
   ]
  },
  {
   "cell_type": "code",
   "execution_count": 2,
   "id": "af6ae1bf-ffea-4b2c-afc1-ca58036f6852",
   "metadata": {},
   "outputs": [],
   "source": [
    "def deposit_money():\n",
    "    print(\"\\n==deposit==\")\n",
    "    print(\"1.TNM Mpamba\")\n",
    "    print(\"2.airtel money\")\n",
    "    choice=input(\"choose your choice(1-2)\")\n",
    "    amount=float(input(\"enter amount to deposit\"))\n",
    "    user_data[\"balance\"]+=amount\n",
    "    print(f\"successfully deposit{amount}\")"
   ]
  },
  {
   "cell_type": "code",
   "execution_count": 3,
   "id": "50954715-ba83-4051-bc27-8e05c15efc0c",
   "metadata": {},
   "outputs": [],
   "source": [
    "def send_money():\n",
    "    amount=float(input(\"enter amount to send\"))\n",
    "    pin=(\"enter your pin\")\n",
    "    recipient=input(\"enter recipient account name\")\n",
    "    print=(F\"{amount}has been sent to {recipient}\")"
   ]
  },
  {
   "cell_type": "code",
   "execution_count": 4,
   "id": "77e90d92-4164-464e-8524-57fad5d01c92",
   "metadata": {},
   "outputs": [],
   "source": [
    "def receive_money():\n",
    "    amount=float(input(\"enter amonunt to receive\"))\n",
    "    sender=input(\"enter sender account name\")\n",
    "    print=(F\"{amount}has been receive from {sender}\")"
   ]
  },
  {
   "cell_type": "code",
   "execution_count": 5,
   "id": "1624a281-60e9-4127-89e5-c5c8df6d6a31",
   "metadata": {},
   "outputs": [],
   "source": [
    "def pay_bill():\n",
    "    bill_type=input(\"enter bill type(electricity , water,azam tv)\")\n",
    "    pin=(\"enter your pin\")\n",
    "    amount=float(input(\"enter amount to pay bill for {bill_type}bill\"))\n",
    "    print(F\"{amount}has been paid for {bill_type}bill\")"
   ]
  },
  {
   "cell_type": "code",
   "execution_count": 11,
   "id": "8e056b46-ac02-446d-8d93-62d48b9e4f31",
   "metadata": {},
   "outputs": [],
   "source": [
    "def withdraw():\n",
    "    amount=float(input(\"enter amount to withdraw\"))\n",
    "    pin=(\"enter your pin\")\n",
    "    if amount<=balance:\n",
    "        seif.balance-amount\n",
    "        print(f\"successfully withdraw\")"
   ]
  },
  {
   "cell_type": "code",
   "execution_count": 12,
   "id": "a4e3339c-cad0-42f8-8291-eb7c01c7b587",
   "metadata": {},
   "outputs": [],
   "source": [
    "def check_balance():\n",
    "    balance=calculate-balance()\n",
    "    pin=(\"enter your pin\")\n",
    "    print(f\"\\n current avaliable balance{balance:2f}\")"
   ]
  },
  {
   "cell_type": "code",
   "execution_count": 13,
   "id": "434e1cf2-5da9-4e87-9782-3651f0d308b1",
   "metadata": {},
   "outputs": [],
   "source": [
    "def loans():\n",
    "    print(\"\\n==loans==\")\n",
    "    print(\"1.loan application\")\n",
    "    print(\"2.loan calculate\")\n",
    "    choice=input(\"choice option (1-3):\")\n",
    "    if choice==\"1\":\n",
    "        amount=float(input(\"enter amount loan\"))\n",
    "        print(F\"loan of {amount}successfully\")\n",
    "    elif choice==\"2\":\n",
    "        amount=float(input(\"enter amount of loan\"))\n",
    "        rate=float(input(\"enter annual rate(%)\"))\n",
    "        months=int(input(\"enter loan period(week\"))\n",
    "        week_payment=(amount*(rate/50)/7)+(amount/week)\n",
    "        print(f\"estimated weekly payment:{weekly_payment:.2f}\")"
   ]
  },
  {
   "cell_type": "code",
   "execution_count": 14,
   "id": "608ecf9f-94a0-4d30-9574-87b561c2ee29",
   "metadata": {},
   "outputs": [],
   "source": [
    "def transaction_history():\n",
    "    print(\"\\n==transaction history==\")\n",
    "    if not user_data[\"transaction_history\"]:\n",
    "        print(\"no any transacton\")\n",
    "    else:\n",
    "        for transaction in user_data[\"transaction_history\"]:\n",
    "            print(\"transaction\")"
   ]
  },
  {
   "cell_type": "code",
   "execution_count": null,
   "id": "60ac6da9-1685-4a7c-a0c8-7886c2524017",
   "metadata": {},
   "outputs": [],
   "source": [
    "def account_menu():\n",
    "    while True:\n",
    "        print(\"\\n==account nenu==\")\n",
    "        print(\"1.deposit money\")\n",
    "        print(\"2.send money\")\n",
    "        print(\"3.receive money\")\n",
    "        print(\"4.pay bill\")\n",
    "        print(\"5.withdrwa\")\n",
    "        print(\"6.check balance\")\n",
    "        print(\"7.loans\")\n",
    "        print(\"8.transaction history\")\n",
    "        print(\"9.exit\")\n",
    "        choice=input(\"chooce option (1-7):\")\n",
    "        if choice==\"1\":\n",
    "            deposit_money()\n",
    "        elif choice==\"2\":\n",
    "            send_money()\n",
    "        elif choice==\"3\":\n",
    "            receive_money()\n",
    "        elif choice==\"4\":\n",
    "            pay_bill()\n",
    "        elif choice==\"5\":\n",
    "            withdraw()\n",
    "        elif choice==\"6\":\n",
    "           check_balance()\n",
    "        elif choice==\"7\":\n",
    "            loans()\n",
    "        elif choice==\"8\":\n",
    "            transaction_history()\n",
    "        elif choice==\"9\":\n",
    "            print(\"exit the program\")\n",
    "            break\n",
    "        else:\n",
    "            print(\"invalid choice\")\n",
    "\n",
    "\n",
    "creating_account()\n",
    "account_menu()"
   ]
  },
  {
   "cell_type": "code",
   "execution_count": null,
   "id": "93d808e7-7fcb-4c92-a2d8-ec216b5fe25e",
   "metadata": {},
   "outputs": [],
   "source": []
  }
 ],
 "metadata": {
  "kernelspec": {
   "display_name": "Python 3 (ipykernel)",
   "language": "python",
   "name": "python3"
  },
  "language_info": {
   "codemirror_mode": {
    "name": "ipython",
    "version": 3
   },
   "file_extension": ".py",
   "mimetype": "text/x-python",
   "name": "python",
   "nbconvert_exporter": "python",
   "pygments_lexer": "ipython3",
   "version": "3.13.2"
  }
 },
 "nbformat": 4,
 "nbformat_minor": 5
}
